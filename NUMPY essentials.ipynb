{
 "cells": [
  {
   "cell_type": "code",
   "execution_count": 45,
   "id": "974269c7",
   "metadata": {},
   "outputs": [],
   "source": [
    "import numpy as np"
   ]
  },
  {
   "cell_type": "raw",
   "id": "e86eee83",
   "metadata": {},
   "source": [
    "##Creating a list in order to convert it into a numpy array"
   ]
  },
  {
   "cell_type": "code",
   "execution_count": 46,
   "id": "5394b7f4",
   "metadata": {},
   "outputs": [],
   "source": [
    "my_list=[-1,0,1]"
   ]
  },
  {
   "cell_type": "code",
   "execution_count": 47,
   "id": "554a1ddf",
   "metadata": {},
   "outputs": [
    {
     "data": {
      "text/plain": [
       "([-1, 0, 1], list)"
      ]
     },
     "execution_count": 47,
     "metadata": {},
     "output_type": "execute_result"
    }
   ],
   "source": [
    "my_list,type(my_list)"
   ]
  },
  {
   "cell_type": "raw",
   "id": "40f4eeae",
   "metadata": {},
   "source": [
    "##Creating a array in numpy "
   ]
  },
  {
   "cell_type": "code",
   "execution_count": 48,
   "id": "a7cbba74",
   "metadata": {},
   "outputs": [],
   "source": [
    "my_array=np.array(my_list)"
   ]
  },
  {
   "cell_type": "code",
   "execution_count": 49,
   "id": "a0d9acd0",
   "metadata": {},
   "outputs": [
    {
     "data": {
      "text/plain": [
       "(array([-1,  0,  1]), numpy.ndarray)"
      ]
     },
     "execution_count": 49,
     "metadata": {},
     "output_type": "execute_result"
    }
   ],
   "source": [
    "my_array,type(my_array)"
   ]
  },
  {
   "cell_type": "raw",
   "id": "44a5d9db",
   "metadata": {},
   "source": [
    "##to create a 2D array , we input a list in list and then convert it into a numpy array"
   ]
  },
  {
   "cell_type": "code",
   "execution_count": 50,
   "id": "95cb680f",
   "metadata": {},
   "outputs": [],
   "source": [
    "matrix=[[1,2,3],[4,5,6],[7,8,9]]"
   ]
  },
  {
   "cell_type": "code",
   "execution_count": 51,
   "id": "bdf9e4d9",
   "metadata": {},
   "outputs": [
    {
     "data": {
      "text/plain": [
       "([[1, 2, 3], [4, 5, 6], [7, 8, 9]], list)"
      ]
     },
     "execution_count": 51,
     "metadata": {},
     "output_type": "execute_result"
    }
   ],
   "source": [
    "matrix,type(matrix)"
   ]
  },
  {
   "cell_type": "code",
   "execution_count": 52,
   "id": "e5eb2671",
   "metadata": {},
   "outputs": [],
   "source": [
    "two_array=np.array(matrix)"
   ]
  },
  {
   "cell_type": "code",
   "execution_count": 53,
   "id": "849f0f32",
   "metadata": {},
   "outputs": [
    {
     "data": {
      "text/plain": [
       "(array([[1, 2, 3],\n",
       "        [4, 5, 6],\n",
       "        [7, 8, 9]]),\n",
       " numpy.ndarray)"
      ]
     },
     "execution_count": 53,
     "metadata": {},
     "output_type": "execute_result"
    }
   ],
   "source": [
    "two_array,type(two_array)"
   ]
  },
  {
   "cell_type": "raw",
   "id": "a60bccc1",
   "metadata": {},
   "source": [
    "Similarly creating a array from tuple"
   ]
  },
  {
   "cell_type": "code",
   "execution_count": 54,
   "id": "ffce262e",
   "metadata": {},
   "outputs": [],
   "source": [
    "tuple={2,0,9}"
   ]
  },
  {
   "cell_type": "code",
   "execution_count": 55,
   "id": "9579b686",
   "metadata": {},
   "outputs": [
    {
     "data": {
      "text/plain": [
       "(array({0, 9, 2}, dtype=object), numpy.ndarray)"
      ]
     },
     "execution_count": 55,
     "metadata": {},
     "output_type": "execute_result"
    }
   ],
   "source": [
    "tuple_array=np.array(tuple)\n",
    "tuple_array,type(tuple_array)"
   ]
  },
  {
   "cell_type": "raw",
   "id": "46895d72",
   "metadata": {},
   "source": [
    "arange is a function in numpy that lets user generate a array .\n",
    "The function requires start count,stop count and step count \n",
    "np.arange(start,stop,step)\n",
    "we can also provide a datatype to it\n"
   ]
  },
  {
   "cell_type": "code",
   "execution_count": 56,
   "id": "c64235f5",
   "metadata": {},
   "outputs": [
    {
     "data": {
      "text/plain": [
       "array([ 0,  2,  4,  6,  8, 10])"
      ]
     },
     "execution_count": 56,
     "metadata": {},
     "output_type": "execute_result"
    }
   ],
   "source": [
    "np.arange(0,11,2)"
   ]
  },
  {
   "cell_type": "code",
   "execution_count": 57,
   "id": "afeb41e2",
   "metadata": {},
   "outputs": [
    {
     "data": {
      "text/plain": [
       "array([ 3.,  6.,  9., 12., 15., 18., 21.])"
      ]
     },
     "execution_count": 57,
     "metadata": {},
     "output_type": "execute_result"
    }
   ],
   "source": [
    "np.arange(3,23,3,dtype=float)"
   ]
  },
  {
   "cell_type": "raw",
   "id": "44fe3ac6",
   "metadata": {},
   "source": [
    "linspace returns evenly spaced numbers within a specified interval\n",
    "np.linspace(start,stop,num)\n",
    "we can also add a parameter retstep=true which returns the step size "
   ]
  },
  {
   "cell_type": "code",
   "execution_count": 58,
   "id": "0ec57a45",
   "metadata": {},
   "outputs": [
    {
     "data": {
      "text/plain": [
       "array([ 1.,  2.,  3.,  4.,  5.,  6.,  7.,  8.,  9., 10., 11., 12., 13.,\n",
       "       14., 15., 16., 17., 18., 19., 20., 21., 22., 23., 24., 25., 26.,\n",
       "       27., 28., 29., 30., 31., 32., 33., 34., 35., 36., 37., 38., 39.,\n",
       "       40., 41., 42., 43., 44., 45.])"
      ]
     },
     "execution_count": 58,
     "metadata": {},
     "output_type": "execute_result"
    }
   ],
   "source": [
    "np.linspace(1,45,45)"
   ]
  },
  {
   "cell_type": "code",
   "execution_count": 59,
   "id": "6c5bfe8f",
   "metadata": {},
   "outputs": [
    {
     "data": {
      "text/plain": [
       "(array([ 1.        ,  2.26315789,  3.52631579,  4.78947368,  6.05263158,\n",
       "         7.31578947,  8.57894737,  9.84210526, 11.10526316, 12.36842105,\n",
       "        13.63157895, 14.89473684, 16.15789474, 17.42105263, 18.68421053,\n",
       "        19.94736842, 21.21052632, 22.47368421, 23.73684211, 25.        ]),\n",
       " 1.263157894736842)"
      ]
     },
     "execution_count": 59,
     "metadata": {},
     "output_type": "execute_result"
    }
   ],
   "source": [
    "np.linspace(1,25,20,retstep=True)"
   ]
  },
  {
   "cell_type": "raw",
   "id": "b65e56d5",
   "metadata": {},
   "source": [
    "Zeros is a function in  numpy that creates a array of zeroes,the number of zeroes can be given as input to produce 1d or 2d arrays\n",
    "ones is a similar function returning array of ones"
   ]
  },
  {
   "cell_type": "code",
   "execution_count": 60,
   "id": "c11c876d",
   "metadata": {},
   "outputs": [
    {
     "data": {
      "text/plain": [
       "array([0., 0., 0., 0., 0., 0., 0., 0., 0., 0., 0., 0., 0., 0., 0.])"
      ]
     },
     "execution_count": 60,
     "metadata": {},
     "output_type": "execute_result"
    }
   ],
   "source": [
    "np.zeros(15)"
   ]
  },
  {
   "cell_type": "code",
   "execution_count": 61,
   "id": "b8469a34",
   "metadata": {},
   "outputs": [
    {
     "data": {
      "text/plain": [
       "array([[0., 0., 0., 0., 0.],\n",
       "       [0., 0., 0., 0., 0.],\n",
       "       [0., 0., 0., 0., 0.],\n",
       "       [0., 0., 0., 0., 0.],\n",
       "       [0., 0., 0., 0., 0.]])"
      ]
     },
     "execution_count": 61,
     "metadata": {},
     "output_type": "execute_result"
    }
   ],
   "source": [
    "np.zeros([5,5])"
   ]
  },
  {
   "cell_type": "code",
   "execution_count": 62,
   "id": "b3865444",
   "metadata": {},
   "outputs": [
    {
     "data": {
      "text/plain": [
       "array([[1., 1.],\n",
       "       [1., 1.]])"
      ]
     },
     "execution_count": 62,
     "metadata": {},
     "output_type": "execute_result"
    }
   ],
   "source": [
    "np.ones([2,2])"
   ]
  },
  {
   "cell_type": "raw",
   "id": "61d972fb",
   "metadata": {},
   "source": [
    "eye creates identity matrix with a parameter N that represents number of rows or columns"
   ]
  },
  {
   "cell_type": "code",
   "execution_count": 63,
   "id": "be752014",
   "metadata": {},
   "outputs": [
    {
     "data": {
      "text/plain": [
       "array([[1., 0., 0., 0., 0., 0.],\n",
       "       [0., 1., 0., 0., 0., 0.],\n",
       "       [0., 0., 1., 0., 0., 0.],\n",
       "       [0., 0., 0., 1., 0., 0.],\n",
       "       [0., 0., 0., 0., 1., 0.],\n",
       "       [0., 0., 0., 0., 0., 1.]])"
      ]
     },
     "execution_count": 63,
     "metadata": {},
     "output_type": "execute_result"
    }
   ],
   "source": [
    "np.eye(6)"
   ]
  },
  {
   "cell_type": "raw",
   "id": "a22d25a7",
   "metadata": {},
   "source": [
    "The random module of numpy helps in creating a random array using the rand function .\n",
    "the first parameter being no. of rows and followed by no. of columns"
   ]
  },
  {
   "cell_type": "code",
   "execution_count": 64,
   "id": "3dd9ffc9",
   "metadata": {},
   "outputs": [
    {
     "data": {
      "text/plain": [
       "<module 'numpy.random' from 'C:\\\\Users\\\\anees\\\\anaconda3\\\\lib\\\\site-packages\\\\numpy\\\\random\\\\__init__.py'>"
      ]
     },
     "execution_count": 64,
     "metadata": {},
     "output_type": "execute_result"
    }
   ],
   "source": [
    "np.random"
   ]
  },
  {
   "cell_type": "code",
   "execution_count": 65,
   "id": "6c538c31",
   "metadata": {},
   "outputs": [
    {
     "data": {
      "text/plain": [
       "array([0.45505334, 0.04803949, 0.39458077, 0.4634075 ])"
      ]
     },
     "execution_count": 65,
     "metadata": {},
     "output_type": "execute_result"
    }
   ],
   "source": [
    "np.random.rand(4)"
   ]
  },
  {
   "cell_type": "code",
   "execution_count": 66,
   "id": "8f63f2ad",
   "metadata": {},
   "outputs": [
    {
     "data": {
      "text/plain": [
       "array([[0.59297773, 0.37618797, 0.45757236, 0.30040335],\n",
       "       [0.38868111, 0.90181909, 0.51167156, 0.10556426],\n",
       "       [0.00944374, 0.85195217, 0.29735727, 0.05907824]])"
      ]
     },
     "execution_count": 66,
     "metadata": {},
     "output_type": "execute_result"
    }
   ],
   "source": [
    "np.random.rand(3,4)"
   ]
  },
  {
   "cell_type": "raw",
   "id": "d3d31b8a",
   "metadata": {},
   "source": [
    "randn returns a simple form of a standard normal or gaussian distribution of the distribution"
   ]
  },
  {
   "cell_type": "code",
   "execution_count": 67,
   "id": "4591f679",
   "metadata": {},
   "outputs": [
    {
     "data": {
      "text/plain": [
       "array([[-0.03175959,  0.37870407,  1.43126362,  0.73258748],\n",
       "       [ 0.63286468, -0.52075108, -0.83938558,  2.19250188],\n",
       "       [ 0.73056167, -0.15535419,  1.24058579, -0.26328434],\n",
       "       [ 0.20486591, -0.83550034, -1.72565941,  1.28140511]])"
      ]
     },
     "execution_count": 67,
     "metadata": {},
     "output_type": "execute_result"
    }
   ],
   "source": [
    "np.random.randn(4,4)"
   ]
  },
  {
   "cell_type": "raw",
   "id": "4145551e",
   "metadata": {},
   "source": [
    "randint function generates random value between the range the user provides.The number of random numbers is also a parameter and default is one.it can also generate a matrix\n"
   ]
  },
  {
   "cell_type": "code",
   "execution_count": 68,
   "id": "4767d6f4",
   "metadata": {},
   "outputs": [
    {
     "data": {
      "text/plain": [
       "91"
      ]
     },
     "execution_count": 68,
     "metadata": {},
     "output_type": "execute_result"
    }
   ],
   "source": [
    "np.random.randint(20,250)"
   ]
  },
  {
   "cell_type": "code",
   "execution_count": 69,
   "id": "93b367b3",
   "metadata": {},
   "outputs": [
    {
     "data": {
      "text/plain": [
       "array([85, 95, 32, 10, 41])"
      ]
     },
     "execution_count": 69,
     "metadata": {},
     "output_type": "execute_result"
    }
   ],
   "source": [
    "np.random.randint(1,100,5)"
   ]
  },
  {
   "cell_type": "code",
   "execution_count": 70,
   "id": "2f0e3415",
   "metadata": {},
   "outputs": [
    {
     "data": {
      "text/plain": [
       "array([[22, 58, 47, 63, 19, 61],\n",
       "       [46, 37, 17, 97, 69, 63],\n",
       "       [65, 13, 82, 95, 80, 76],\n",
       "       [93, 26, 49, 26,  4, 40],\n",
       "       [22, 29, 69, 10,  2, 79]])"
      ]
     },
     "execution_count": 70,
     "metadata": {},
     "output_type": "execute_result"
    }
   ],
   "source": [
    "np.random.randint(1,100,(5,6))"
   ]
  },
  {
   "cell_type": "markdown",
   "id": "fc5890aa",
   "metadata": {},
   "source": [
    "array methods and attributes:"
   ]
  },
  {
   "cell_type": "code",
   "execution_count": 71,
   "id": "a05ff179",
   "metadata": {},
   "outputs": [
    {
     "data": {
      "text/plain": [
       "array([ 0,  1,  2,  3,  4,  5,  6,  7,  8,  9, 10, 11, 12, 13, 14, 15])"
      ]
     },
     "execution_count": 71,
     "metadata": {},
     "output_type": "execute_result"
    }
   ],
   "source": [
    "#generating an array\n",
    "array_arange=np.arange(16)\n",
    "array_arange"
   ]
  },
  {
   "cell_type": "code",
   "execution_count": 72,
   "id": "9f4c2b3c",
   "metadata": {},
   "outputs": [
    {
     "data": {
      "text/plain": [
       "array([100,  85,  56,  11,  30, 145, 115,  49,  79,  73,  49, 171, 178,\n",
       "       184,  35,  94, 135,  52, 141,  88])"
      ]
     },
     "execution_count": 72,
     "metadata": {},
     "output_type": "execute_result"
    }
   ],
   "source": [
    "#generate one more using randint\n",
    "array_ranint=np.random.randint(0,200,20)\n",
    "array_ranint"
   ]
  },
  {
   "cell_type": "raw",
   "id": "a9c0c942",
   "metadata": {},
   "source": [
    "The reshape function can change the shape of any array into the desired input "
   ]
  },
  {
   "cell_type": "code",
   "execution_count": 74,
   "id": "4936f799",
   "metadata": {},
   "outputs": [
    {
     "data": {
      "text/plain": [
       "array([[ 0,  1,  2,  3],\n",
       "       [ 4,  5,  6,  7],\n",
       "       [ 8,  9, 10, 11],\n",
       "       [12, 13, 14, 15]])"
      ]
     },
     "execution_count": 74,
     "metadata": {},
     "output_type": "execute_result"
    }
   ],
   "source": [
    "array_arange.reshape(4,4)"
   ]
  },
  {
   "cell_type": "code",
   "execution_count": 75,
   "id": "03c46df8",
   "metadata": {},
   "outputs": [
    {
     "data": {
      "text/plain": [
       "11"
      ]
     },
     "execution_count": 75,
     "metadata": {},
     "output_type": "execute_result"
    }
   ],
   "source": [
    "#to find the max value in an array\n",
    "array_ranint.min()"
   ]
  },
  {
   "cell_type": "code",
   "execution_count": 77,
   "id": "7b43b88d",
   "metadata": {},
   "outputs": [
    {
     "data": {
      "text/plain": [
       "184"
      ]
     },
     "execution_count": 77,
     "metadata": {},
     "output_type": "execute_result"
    }
   ],
   "source": [
    "#to find the min value in an array\n",
    "array_ranint.max()"
   ]
  },
  {
   "cell_type": "code",
   "execution_count": 78,
   "id": "f0e3283f",
   "metadata": {},
   "outputs": [
    {
     "data": {
      "text/plain": [
       "13"
      ]
     },
     "execution_count": 78,
     "metadata": {},
     "output_type": "execute_result"
    }
   ],
   "source": [
    "#returns the location of the max value in the array\n",
    "array_ranint.argmax()\n"
   ]
  },
  {
   "cell_type": "code",
   "execution_count": 79,
   "id": "41c40ce3",
   "metadata": {},
   "outputs": [
    {
     "data": {
      "text/plain": [
       "3"
      ]
     },
     "execution_count": 79,
     "metadata": {},
     "output_type": "execute_result"
    }
   ],
   "source": [
    "#returns the location of the min value in the array\n",
    "array_ranint.argmin()\n"
   ]
  },
  {
   "cell_type": "code",
   "execution_count": 80,
   "id": "af66863d",
   "metadata": {},
   "outputs": [
    {
     "data": {
      "text/plain": [
       "(16,)"
      ]
     },
     "execution_count": 80,
     "metadata": {},
     "output_type": "execute_result"
    }
   ],
   "source": [
    "array_arange.shape"
   ]
  },
  {
   "cell_type": "code",
   "execution_count": 81,
   "id": "deec8e5a",
   "metadata": {},
   "outputs": [
    {
     "data": {
      "text/plain": [
       "16"
      ]
     },
     "execution_count": 81,
     "metadata": {},
     "output_type": "execute_result"
    }
   ],
   "source": [
    "array_arange.size"
   ]
  },
  {
   "cell_type": "code",
   "execution_count": 82,
   "id": "6b4d80cb",
   "metadata": {},
   "outputs": [
    {
     "data": {
      "text/plain": [
       "dtype('int32')"
      ]
     },
     "execution_count": 82,
     "metadata": {},
     "output_type": "execute_result"
    }
   ],
   "source": [
    "array_arange.dtype"
   ]
  },
  {
   "cell_type": "code",
   "execution_count": 85,
   "id": "2396c8f0",
   "metadata": {},
   "outputs": [
    {
     "data": {
      "text/plain": [
       "(4, 4)"
      ]
     },
     "execution_count": 85,
     "metadata": {},
     "output_type": "execute_result"
    }
   ],
   "source": [
    "array_arange.reshape(4,4).shape"
   ]
  },
  {
   "cell_type": "code",
   "execution_count": null,
   "id": "434113d7",
   "metadata": {},
   "outputs": [],
   "source": []
  }
 ],
 "metadata": {
  "kernelspec": {
   "display_name": "Python 3",
   "language": "python",
   "name": "python3"
  },
  "language_info": {
   "codemirror_mode": {
    "name": "ipython",
    "version": 3
   },
   "file_extension": ".py",
   "mimetype": "text/x-python",
   "name": "python",
   "nbconvert_exporter": "python",
   "pygments_lexer": "ipython3",
   "version": "3.8.8"
  }
 },
 "nbformat": 4,
 "nbformat_minor": 5
}
